{
 "cells": [
  {
   "cell_type": "markdown",
   "metadata": {},
   "source": [
    "### Kilka uwag do zadania"
   ]
  },
  {
   "cell_type": "markdown",
   "metadata": {},
   "source": [
    "Wskazówka 1 - sortowanie"
   ]
  },
  {
   "cell_type": "code",
   "execution_count": 1,
   "metadata": {},
   "outputs": [
    {
     "data": {
      "text/plain": [
       "[1, 2, 3, 5, 7]"
      ]
     },
     "execution_count": 1,
     "metadata": {},
     "output_type": "execute_result"
    }
   ],
   "source": [
    "l = [2,3,7,5,1]\n",
    "sorted(l)"
   ]
  },
  {
   "cell_type": "markdown",
   "metadata": {},
   "source": [
    "Wskazówka 2 - wczytywanie"
   ]
  },
  {
   "cell_type": "code",
   "execution_count": 2,
   "metadata": {},
   "outputs": [
    {
     "name": "stdout",
     "output_type": "stream",
     "text": [
      "Podaj napis: Ala\n",
      "Twój napis to `Ala`\n"
     ]
    }
   ],
   "source": [
    "x = input(\"Podaj napis: \")\n",
    "print(\"Twój napis to `\" + x + \"`\")"
   ]
  },
  {
   "cell_type": "markdown",
   "metadata": {},
   "source": [
    "# Zadanie domowe:\n",
    "Zadanie: Śledzenie Spędzonego Czasu\n",
    "\n",
    "Stwórz program, który pozwala śledzić czas spędzony na różnych aktywnościach. Użyj słownika do przechowywania danych o aktywnościach oraz listy do śledzenia czasu spędzonego na każdej z nich. Program powinien mieć trzy główne funkcje:\n",
    "* Dodaj Aktywność: Użytkownik może dodać nową aktywność do śledzenia. Jeśli aktywność już istnieje, program powinien tylko zaktualizować ją o nowy czas. Struktura danych może wyglądać tak:\n",
    "    {\n",
    "    'Aktywność 1': [czas1, czas2, czas3, ...],\n",
    "    'Aktywność 2': [czas1, czas2, czas3, ...],\n",
    "    ...\n",
    "}\n",
    "* Pokaż Czas: Użytkownik może wybrać aktywność i zobaczyć, ile łącznie czasu spędził na niej.\n",
    "* Pokaż Top Aktywności: Program powinien pokazać top 3 aktywności, na których użytkownik spędził najwięcej czasu."
   ]
  },
  {
   "cell_type": "code",
   "execution_count": 5,
   "metadata": {},
   "outputs": [
    {
     "name": "stdout",
     "output_type": "stream",
     "text": [
      "{'a': [12]}\n",
      "{'a': [12], 'b': [30]}\n",
      "{'a': [12], 'b': [30], 'c': [40]}\n",
      "{'a': [12], 'b': [30], 'c': [40], 'd': [50]}\n",
      "{'a': [12, 320], 'b': [30], 'c': [40], 'd': [50]}\n",
      "{'a': [12, 320], 'b': [30, 20], 'c': [40], 'd': [50]}\n",
      "a: 332\n",
      "b: 50\n",
      "d: 50\n",
      "{'a': [12, 320], 'b': [30, 20], 'c': [40], 'd': [50]}\n",
      "{'a': [12, 320], 'b': [30, 20], 'c': [40], 'd': [50], 'k': [1000]}\n",
      "k: 1000\n",
      "a: 332\n",
      "b: 50\n",
      "{'a': [12, 320], 'b': [30, 20], 'c': [40], 'd': [50], 'k': [1000]}\n",
      "{'a': [12, 320], 'b': [30, 20], 'c': [40], 'd': [50, 1], 'k': [1000]}\n",
      "k: 1000\n",
      "a: 332\n",
      "d: 51\n",
      "{'a': [12, 320], 'b': [30, 20], 'c': [40], 'd': [50, 1], 'k': [1000]}\n"
     ]
    }
   ],
   "source": [
    "journal = {}\n",
    "\n",
    "def add_activity():\n",
    "    name = input(\"Podaj aktywność: \")\n",
    "    time = input(\"Podaj jej czas: \")\n",
    "\n",
    "    if name in journal:\n",
    "        journal[name].append(int(time))\n",
    "    else:\n",
    "        journal[name] = [int(time)]\n",
    "\n",
    "def show_times():\n",
    "    name = input(\"Podaj aktywność: \")\n",
    "    print(sum(journal[name]))\n",
    "\n",
    "def show_top_activities():\n",
    "    sorted_activities = sorted(journal.items(), key=lambda item: sum(item[1]), reverse=True)\n",
    "\n",
    "    for activity, times in sorted_activities[:3]:\n",
    "        print(f\"{activity}: {sum(times)}\")\n",
    "\n",
    "\n",
    "while True:\n",
    "    action = input(\"Co chcesz zrobić? (dodaj, czas, top, koniec): \")\n",
    "\n",
    "    if action == \"dodaj\":\n",
    "        add_activity()\n",
    "    elif action == \"czas\":\n",
    "        show_times()\n",
    "    elif action == \"top\":\n",
    "        show_top_activities()\n",
    "    elif action == \"koniec\":\n",
    "        break\n",
    "    else:\n",
    "        print(\"Nieznana komenda\")\n",
    "    print(journal)"
   ]
  },
  {
   "cell_type": "code",
   "execution_count": null,
   "metadata": {},
   "outputs": [],
   "source": [
    "def show_top_activities():\n",
    "    sorted_activities = sorted(journal.items(), key=lambda item: sum(item[1]), reverse=True)\n",
    "    top_activities = sorted_activities[:3]\n",
    "    for activity, times in top_activities:\n",
    "        print(f\"{activity}: {sum(times)}\")\n",
    "\n",
    "show_top_activities()"
   ]
  }
 ],
 "metadata": {
  "kernelspec": {
   "display_name": "Python 3",
   "language": "python",
   "name": "python3"
  },
  "language_info": {
   "codemirror_mode": {
    "name": "ipython",
    "version": 3
   },
   "file_extension": ".py",
   "mimetype": "text/x-python",
   "name": "python",
   "nbconvert_exporter": "python",
   "pygments_lexer": "ipython3",
   "version": "3.10.12"
  }
 },
 "nbformat": 4,
 "nbformat_minor": 2
}
